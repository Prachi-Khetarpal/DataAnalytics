{
 "cells": [
  {
   "cell_type": "markdown",
   "metadata": {
    "pycharm": {
     "name": "#%%\n"
    }
   },
   "source": [
    "# England Housing"
   ]
  },
  {
   "cell_type": "markdown",
   "metadata": {
    "pycharm": {
     "name": "#%%\n"
    }
   },
   "source": [
    "### This dataset provides information about housing options available in UK\n",
    "\n",
    "The fields available in the dataset are as follows:\n",
    "1. Date\n",
    "2. Area\n",
    "3. Average price\n",
    "4. Code\n",
    "5. Houses sold\n",
    "6. Number of crimes\n",
    "\n",
    "This dataset was downloaded from Kaggle. The dataset is stored in a CSV file.\n",
    "\n",
    "The data available ranges from year 1995 to 2019.\n",
    "\n",
    "The data will be analyzed using Python's Pandas library."
   ]
  },
  {
   "cell_type": "markdown",
   "metadata": {
    "collapsed": false,
    "pycharm": {
     "name": "#%% md\n"
    }
   },
   "source": [
    "## Importing data:"
   ]
  },
  {
   "cell_type": "code",
   "execution_count": null,
   "metadata": {
    "collapsed": false,
    "pycharm": {
     "name": "#%%\n"
    }
   },
   "outputs": [],
   "source": [
    "import pandas as pd\n",
    "import numpy as np"
   ]
  },
  {
   "cell_type": "code",
   "execution_count": null,
   "metadata": {
    "collapsed": false,
    "pycharm": {
     "name": "#%%\n"
    }
   },
   "outputs": [],
   "source": [
    "data = pd.read_csv(\"/Users/sandeepkhetarpal/PycharmProjects/EDA/data/London Housing Data.csv\")"
   ]
  },
  {
   "cell_type": "code",
   "execution_count": null,
   "metadata": {
    "collapsed": false,
    "pycharm": {
     "name": "#%%\n"
    }
   },
   "outputs": [],
   "source": [
    "data"
   ]
  },
  {
   "cell_type": "markdown",
   "metadata": {
    "collapsed": false,
    "pycharm": {
     "name": "#%% md\n"
    }
   },
   "source": [
    "## Exploring data:"
   ]
  },
  {
   "cell_type": "code",
   "execution_count": null,
   "metadata": {
    "collapsed": false,
    "pycharm": {
     "name": "#%%\n"
    }
   },
   "outputs": [],
   "source": [
    "data.count()"
   ]
  },
  {
   "cell_type": "code",
   "execution_count": null,
   "metadata": {
    "collapsed": false,
    "pycharm": {
     "name": "#%%\n"
    }
   },
   "outputs": [],
   "source": [
    "data.isnull()"
   ]
  },
  {
   "cell_type": "code",
   "execution_count": null,
   "metadata": {
    "collapsed": false,
    "pycharm": {
     "name": "#%%\n"
    }
   },
   "outputs": [],
   "source": [
    "data.isnull().sum()"
   ]
  },
  {
   "cell_type": "markdown",
   "metadata": {
    "collapsed": false,
    "pycharm": {
     "name": "#%% md\n"
    }
   },
   "source": [
    "### Null values in a heat map:"
   ]
  },
  {
   "cell_type": "code",
   "execution_count": null,
   "metadata": {
    "collapsed": false,
    "pycharm": {
     "name": "#%%\n"
    }
   },
   "outputs": [],
   "source": [
    "import seaborn as sb\n",
    "import matplotlib.pyplot as mp"
   ]
  },
  {
   "cell_type": "code",
   "execution_count": null,
   "metadata": {
    "collapsed": false,
    "pycharm": {
     "name": "#%%\n"
    }
   },
   "outputs": [],
   "source": [
    "sb.heatmap(data.isnull())"
   ]
  },
  {
   "cell_type": "markdown",
   "metadata": {
    "collapsed": false,
    "pycharm": {
     "name": "#%% md\n"
    }
   },
   "source": [
    "## Cleaning data:"
   ]
  },
  {
   "cell_type": "markdown",
   "metadata": {
    "collapsed": false,
    "pycharm": {
     "name": "#%% md\n"
    }
   },
   "source": [
    "### Replacing null values:"
   ]
  },
  {
   "cell_type": "code",
   "execution_count": null,
   "metadata": {
    "collapsed": false,
    "pycharm": {
     "name": "#%%\n"
    }
   },
   "outputs": [],
   "source": [
    "data = data.fillna(value = 0)"
   ]
  },
  {
   "cell_type": "code",
   "execution_count": null,
   "metadata": {
    "collapsed": false,
    "pycharm": {
     "name": "#%%\n"
    }
   },
   "outputs": [],
   "source": [
    "data.isnull().sum()"
   ]
  },
  {
   "cell_type": "code",
   "execution_count": null,
   "metadata": {
    "collapsed": false,
    "pycharm": {
     "name": "#%%\n"
    }
   },
   "outputs": [],
   "source": [
    "data"
   ]
  },
  {
   "cell_type": "markdown",
   "metadata": {
    "collapsed": false,
    "pycharm": {
     "name": "#%% md\n"
    }
   },
   "source": [
    "### Removing whitespaces from strings:"
   ]
  },
  {
   "cell_type": "code",
   "execution_count": null,
   "metadata": {
    "collapsed": false,
    "pycharm": {
     "name": "#%%\n"
    }
   },
   "outputs": [],
   "source": [
    "str_columns = list(data.columns)\n",
    "str_columns.remove('average_price')\n",
    "str_columns.remove('houses_sold')\n",
    "str_columns.remove('no_of_crimes')\n",
    "for column in str_columns:\n",
    "    data[column] = data[column].str.strip()"
   ]
  },
  {
   "cell_type": "markdown",
   "metadata": {
    "collapsed": false,
    "pycharm": {
     "name": "#%% md\n"
    }
   },
   "source": [
    "### Modifying datatypes:"
   ]
  },
  {
   "cell_type": "code",
   "execution_count": null,
   "metadata": {
    "collapsed": false,
    "pycharm": {
     "name": "#%%\n"
    }
   },
   "outputs": [],
   "source": [
    "data.dtypes"
   ]
  },
  {
   "cell_type": "code",
   "execution_count": null,
   "metadata": {
    "collapsed": false,
    "pycharm": {
     "name": "#%%\n"
    }
   },
   "outputs": [],
   "source": [
    "data.average_price = pd.to_numeric(data.average_price , downcast = 'float')"
   ]
  },
  {
   "cell_type": "code",
   "execution_count": null,
   "metadata": {
    "collapsed": false,
    "pycharm": {
     "name": "#%%\n"
    }
   },
   "outputs": [],
   "source": [
    "data.dtypes"
   ]
  },
  {
   "cell_type": "code",
   "execution_count": null,
   "metadata": {
    "collapsed": false,
    "pycharm": {
     "name": "#%%\n"
    }
   },
   "outputs": [],
   "source": [
    "data.date = pd.to_datetime(data.date)"
   ]
  },
  {
   "cell_type": "code",
   "execution_count": null,
   "metadata": {
    "collapsed": false,
    "pycharm": {
     "name": "#%%\n"
    }
   },
   "outputs": [],
   "source": [
    "data"
   ]
  },
  {
   "cell_type": "code",
   "execution_count": null,
   "metadata": {
    "collapsed": false,
    "pycharm": {
     "name": "#%%\n"
    }
   },
   "outputs": [],
   "source": [
    "data.dtypes"
   ]
  },
  {
   "cell_type": "markdown",
   "metadata": {
    "collapsed": false,
    "pycharm": {
     "name": "#%% md\n"
    }
   },
   "source": [
    "### Adding a new column 'year' in the dataframe which must contain only year:"
   ]
  },
  {
   "cell_type": "code",
   "execution_count": null,
   "metadata": {
    "collapsed": false,
    "pycharm": {
     "name": "#%%\n"
    }
   },
   "outputs": [],
   "source": [
    "data.head()"
   ]
  },
  {
   "cell_type": "code",
   "execution_count": null,
   "metadata": {
    "collapsed": false,
    "pycharm": {
     "name": "#%%\n"
    }
   },
   "outputs": [],
   "source": [
    "data['year'] = data.date.dt.year"
   ]
  },
  {
   "cell_type": "code",
   "execution_count": null,
   "metadata": {
    "collapsed": false,
    "pycharm": {
     "name": "#%%\n"
    }
   },
   "outputs": [],
   "source": [
    "data"
   ]
  },
  {
   "cell_type": "markdown",
   "metadata": {
    "collapsed": false,
    "pycharm": {
     "name": "#%% md\n"
    }
   },
   "source": [
    "### Adding a new column 'month' in the dataframe which must contain only month:"
   ]
  },
  {
   "cell_type": "code",
   "execution_count": null,
   "metadata": {
    "collapsed": false,
    "pycharm": {
     "name": "#%%\n"
    }
   },
   "outputs": [],
   "source": [
    "data.head()"
   ]
  },
  {
   "cell_type": "code",
   "execution_count": null,
   "metadata": {
    "collapsed": false,
    "pycharm": {
     "name": "#%%\n"
    }
   },
   "outputs": [],
   "source": [
    "data['month'] = data.date.dt.month"
   ]
  },
  {
   "cell_type": "code",
   "execution_count": null,
   "metadata": {
    "collapsed": false,
    "pycharm": {
     "name": "#%%\n"
    }
   },
   "outputs": [],
   "source": [
    "data"
   ]
  },
  {
   "cell_type": "markdown",
   "metadata": {
    "collapsed": false,
    "pycharm": {
     "name": "#%% md\n"
    }
   },
   "source": [
    "### Moving 'month' and 'year' columns next to 'date' column:"
   ]
  },
  {
   "cell_type": "code",
   "execution_count": null,
   "metadata": {
    "collapsed": false,
    "pycharm": {
     "name": "#%%\n"
    }
   },
   "outputs": [],
   "source": [
    "data.insert(1 , 'month' , data.pop('month'))"
   ]
  },
  {
   "cell_type": "code",
   "execution_count": null,
   "metadata": {
    "collapsed": false,
    "pycharm": {
     "name": "#%%\n"
    }
   },
   "outputs": [],
   "source": [
    "data"
   ]
  },
  {
   "cell_type": "code",
   "execution_count": null,
   "metadata": {
    "collapsed": false,
    "pycharm": {
     "name": "#%%\n"
    }
   },
   "outputs": [],
   "source": [
    "data.insert(2 , 'year' , data.pop('year'))"
   ]
  },
  {
   "cell_type": "code",
   "execution_count": null,
   "metadata": {
    "collapsed": false,
    "pycharm": {
     "name": "#%%\n"
    }
   },
   "outputs": [],
   "source": [
    "data"
   ]
  },
  {
   "cell_type": "markdown",
   "metadata": {
    "collapsed": false,
    "pycharm": {
     "name": "#%% md\n"
    }
   },
   "source": [
    "### Removing 'month' column from the dataframe:"
   ]
  },
  {
   "cell_type": "code",
   "execution_count": null,
   "metadata": {
    "collapsed": false,
    "pycharm": {
     "name": "#%%\n"
    }
   },
   "outputs": [],
   "source": [
    "data.drop('month' , axis = 1 , inplace = True)"
   ]
  },
  {
   "cell_type": "code",
   "execution_count": null,
   "metadata": {
    "collapsed": false,
    "pycharm": {
     "name": "#%%\n"
    }
   },
   "outputs": [],
   "source": [
    "data.head()"
   ]
  },
  {
   "cell_type": "markdown",
   "metadata": {
    "collapsed": false,
    "pycharm": {
     "name": "#%% md\n"
    }
   },
   "source": [
    "## Analyzing data:"
   ]
  },
  {
   "cell_type": "markdown",
   "metadata": {
    "collapsed": false,
    "pycharm": {
     "name": "#%% md\n"
    }
   },
   "source": [
    "### 1. Display all records where number of crimes is 0 and how many such records are there?"
   ]
  },
  {
   "cell_type": "code",
   "execution_count": null,
   "metadata": {
    "collapsed": false,
    "pycharm": {
     "name": "#%%\n"
    }
   },
   "outputs": [],
   "source": [
    "data[data.no_of_crimes == 0]"
   ]
  },
  {
   "cell_type": "code",
   "execution_count": null,
   "metadata": {
    "collapsed": false,
    "pycharm": {
     "name": "#%%\n"
    }
   },
   "outputs": [],
   "source": [
    "len(data[data.no_of_crimes == 0])"
   ]
  },
  {
   "cell_type": "markdown",
   "metadata": {
    "collapsed": false,
    "pycharm": {
     "name": "#%% md\n"
    }
   },
   "source": [
    "### 2. What is the maximum and minimum average price of houses in London?"
   ]
  },
  {
   "cell_type": "code",
   "execution_count": null,
   "metadata": {
    "collapsed": false,
    "pycharm": {
     "name": "#%%\n"
    }
   },
   "outputs": [],
   "source": [
    "df1 = data[data.area == 'city of london']"
   ]
  },
  {
   "cell_type": "code",
   "execution_count": null,
   "metadata": {
    "collapsed": false,
    "pycharm": {
     "name": "#%%\n"
    }
   },
   "outputs": [],
   "source": [
    "df1"
   ]
  },
  {
   "cell_type": "code",
   "execution_count": null,
   "metadata": {
    "collapsed": false,
    "pycharm": {
     "name": "#%%\n"
    }
   },
   "outputs": [],
   "source": [
    "df1.groupby('year').average_price.max()"
   ]
  },
  {
   "cell_type": "code",
   "execution_count": null,
   "metadata": {
    "collapsed": false,
    "pycharm": {
     "name": "#%%\n"
    }
   },
   "outputs": [],
   "source": [
    "df1.groupby('year').average_price.min()"
   ]
  },
  {
   "cell_type": "markdown",
   "metadata": {
    "collapsed": false,
    "pycharm": {
     "name": "#%% md\n"
    }
   },
   "source": [
    "### 3. What is the maximum and minimum number of crimes recorded in each area?"
   ]
  },
  {
   "cell_type": "code",
   "execution_count": null,
   "metadata": {
    "collapsed": false,
    "pycharm": {
     "name": "#%%\n"
    }
   },
   "outputs": [],
   "source": [
    "data.groupby('area').no_of_crimes.max()"
   ]
  },
  {
   "cell_type": "code",
   "execution_count": null,
   "metadata": {
    "collapsed": false,
    "pycharm": {
     "name": "#%%\n"
    }
   },
   "outputs": [],
   "source": [
    "data.groupby('area').no_of_crimes.min()"
   ]
  },
  {
   "cell_type": "markdown",
   "metadata": {
    "collapsed": false,
    "pycharm": {
     "name": "#%% md\n"
    }
   },
   "source": [
    "### 4. Show the total count of records of each area where average price is less than 100000."
   ]
  },
  {
   "cell_type": "code",
   "execution_count": 39,
   "metadata": {
    "pycharm": {
     "name": "#%%\n"
    }
   },
   "outputs": [],
   "source": [
    "df1 = data[data.area == 'city of london']"
   ]
  },
  {
   "cell_type": "code",
   "execution_count": 40,
   "metadata": {
    "pycharm": {
     "name": "#%%\n"
    }
   },
   "outputs": [
    {
     "data": {
      "text/html": [
       "<div>\n",
       "<style scoped>\n",
       "    .dataframe tbody tr th:only-of-type {\n",
       "        vertical-align: middle;\n",
       "    }\n",
       "\n",
       "    .dataframe tbody tr th {\n",
       "        vertical-align: top;\n",
       "    }\n",
       "\n",
       "    .dataframe thead th {\n",
       "        text-align: right;\n",
       "    }\n",
       "</style>\n",
       "<table border=\"1\" class=\"dataframe\">\n",
       "  <thead>\n",
       "    <tr style=\"text-align: right;\">\n",
       "      <th></th>\n",
       "      <th>date</th>\n",
       "      <th>year</th>\n",
       "      <th>area</th>\n",
       "      <th>average_price</th>\n",
       "      <th>code</th>\n",
       "      <th>houses_sold</th>\n",
       "      <th>no_of_crimes</th>\n",
       "    </tr>\n",
       "  </thead>\n",
       "  <tbody>\n",
       "    <tr>\n",
       "      <th>0</th>\n",
       "      <td>1995-01-01</td>\n",
       "      <td>1995</td>\n",
       "      <td>city of london</td>\n",
       "      <td>91449.0</td>\n",
       "      <td>E09000001</td>\n",
       "      <td>17.0</td>\n",
       "      <td>0.0</td>\n",
       "    </tr>\n",
       "    <tr>\n",
       "      <th>1</th>\n",
       "      <td>1995-02-01</td>\n",
       "      <td>1995</td>\n",
       "      <td>city of london</td>\n",
       "      <td>82203.0</td>\n",
       "      <td>E09000001</td>\n",
       "      <td>7.0</td>\n",
       "      <td>0.0</td>\n",
       "    </tr>\n",
       "    <tr>\n",
       "      <th>2</th>\n",
       "      <td>1995-03-01</td>\n",
       "      <td>1995</td>\n",
       "      <td>city of london</td>\n",
       "      <td>79121.0</td>\n",
       "      <td>E09000001</td>\n",
       "      <td>14.0</td>\n",
       "      <td>0.0</td>\n",
       "    </tr>\n",
       "    <tr>\n",
       "      <th>3</th>\n",
       "      <td>1995-04-01</td>\n",
       "      <td>1995</td>\n",
       "      <td>city of london</td>\n",
       "      <td>77101.0</td>\n",
       "      <td>E09000001</td>\n",
       "      <td>7.0</td>\n",
       "      <td>0.0</td>\n",
       "    </tr>\n",
       "    <tr>\n",
       "      <th>4</th>\n",
       "      <td>1995-05-01</td>\n",
       "      <td>1995</td>\n",
       "      <td>city of london</td>\n",
       "      <td>84409.0</td>\n",
       "      <td>E09000001</td>\n",
       "      <td>10.0</td>\n",
       "      <td>0.0</td>\n",
       "    </tr>\n",
       "    <tr>\n",
       "      <th>...</th>\n",
       "      <td>...</td>\n",
       "      <td>...</td>\n",
       "      <td>...</td>\n",
       "      <td>...</td>\n",
       "      <td>...</td>\n",
       "      <td>...</td>\n",
       "      <td>...</td>\n",
       "    </tr>\n",
       "    <tr>\n",
       "      <th>296</th>\n",
       "      <td>2019-09-01</td>\n",
       "      <td>2019</td>\n",
       "      <td>city of london</td>\n",
       "      <td>792034.0</td>\n",
       "      <td>E09000001</td>\n",
       "      <td>11.0</td>\n",
       "      <td>0.0</td>\n",
       "    </tr>\n",
       "    <tr>\n",
       "      <th>297</th>\n",
       "      <td>2019-10-01</td>\n",
       "      <td>2019</td>\n",
       "      <td>city of london</td>\n",
       "      <td>827093.0</td>\n",
       "      <td>E09000001</td>\n",
       "      <td>4.0</td>\n",
       "      <td>0.0</td>\n",
       "    </tr>\n",
       "    <tr>\n",
       "      <th>298</th>\n",
       "      <td>2019-11-01</td>\n",
       "      <td>2019</td>\n",
       "      <td>city of london</td>\n",
       "      <td>777610.0</td>\n",
       "      <td>E09000001</td>\n",
       "      <td>5.0</td>\n",
       "      <td>0.0</td>\n",
       "    </tr>\n",
       "    <tr>\n",
       "      <th>299</th>\n",
       "      <td>2019-12-01</td>\n",
       "      <td>2019</td>\n",
       "      <td>city of london</td>\n",
       "      <td>734872.0</td>\n",
       "      <td>E09000001</td>\n",
       "      <td>0.0</td>\n",
       "      <td>0.0</td>\n",
       "    </tr>\n",
       "    <tr>\n",
       "      <th>300</th>\n",
       "      <td>2020-01-01</td>\n",
       "      <td>2020</td>\n",
       "      <td>city of london</td>\n",
       "      <td>775309.0</td>\n",
       "      <td>E09000001</td>\n",
       "      <td>0.0</td>\n",
       "      <td>0.0</td>\n",
       "    </tr>\n",
       "  </tbody>\n",
       "</table>\n",
       "<p>301 rows × 7 columns</p>\n",
       "</div>"
      ],
      "text/plain": [
       "          date  year            area  average_price       code  houses_sold  \\\n",
       "0   1995-01-01  1995  city of london        91449.0  E09000001         17.0   \n",
       "1   1995-02-01  1995  city of london        82203.0  E09000001          7.0   \n",
       "2   1995-03-01  1995  city of london        79121.0  E09000001         14.0   \n",
       "3   1995-04-01  1995  city of london        77101.0  E09000001          7.0   \n",
       "4   1995-05-01  1995  city of london        84409.0  E09000001         10.0   \n",
       "..         ...   ...             ...            ...        ...          ...   \n",
       "296 2019-09-01  2019  city of london       792034.0  E09000001         11.0   \n",
       "297 2019-10-01  2019  city of london       827093.0  E09000001          4.0   \n",
       "298 2019-11-01  2019  city of london       777610.0  E09000001          5.0   \n",
       "299 2019-12-01  2019  city of london       734872.0  E09000001          0.0   \n",
       "300 2020-01-01  2020  city of london       775309.0  E09000001          0.0   \n",
       "\n",
       "     no_of_crimes  \n",
       "0             0.0  \n",
       "1             0.0  \n",
       "2             0.0  \n",
       "3             0.0  \n",
       "4             0.0  \n",
       "..            ...  \n",
       "296           0.0  \n",
       "297           0.0  \n",
       "298           0.0  \n",
       "299           0.0  \n",
       "300           0.0  \n",
       "\n",
       "[301 rows x 7 columns]"
      ]
     },
     "execution_count": 40,
     "metadata": {},
     "output_type": "execute_result"
    }
   ],
   "source": [
    "df1"
   ]
  },
  {
   "cell_type": "code",
   "execution_count": 41,
   "metadata": {
    "pycharm": {
     "name": "#%%\n"
    }
   },
   "outputs": [
    {
     "data": {
      "text/plain": [
       "year\n",
       "1995    127232.0\n",
       "1996    120543.0\n",
       "1997    131074.0\n",
       "1998    163403.0\n",
       "1999    191157.0\n",
       "2000    321773.0\n",
       "2001    362204.0\n",
       "2002    344239.0\n",
       "2003    305556.0\n",
       "2004    333075.0\n",
       "2005    339626.0\n",
       "2006    377545.0\n",
       "2007    473887.0\n",
       "2008    472397.0\n",
       "2009    411955.0\n",
       "2010    498241.0\n",
       "2011    516319.0\n",
       "2012    573532.0\n",
       "2013    662700.0\n",
       "2014    773768.0\n",
       "2015    783667.0\n",
       "2016    911827.0\n",
       "2017    939912.0\n",
       "2018    811694.0\n",
       "2019    894680.0\n",
       "2020    775309.0\n",
       "Name: average_price, dtype: float32"
      ]
     },
     "execution_count": 41,
     "metadata": {},
     "output_type": "execute_result"
    }
   ],
   "source": [
    "df1.groupby('year').average_price.max()"
   ]
  },
  {
   "cell_type": "code",
   "execution_count": 42,
   "metadata": {
    "pycharm": {
     "name": "#%%\n"
    }
   },
   "outputs": [
    {
     "data": {
      "text/plain": [
       "year\n",
       "1995     77101.0\n",
       "1996     93357.0\n",
       "1997    107488.0\n",
       "1998    124382.0\n",
       "1999    149143.0\n",
       "2000    173738.0\n",
       "2001    189033.0\n",
       "2002    227281.0\n",
       "2003    243184.0\n",
       "2004    269514.0\n",
       "2005    282866.0\n",
       "2006    304977.0\n",
       "2007    360923.0\n",
       "2008    382571.0\n",
       "2009    345338.0\n",
       "2010    420234.0\n",
       "2011    420435.0\n",
       "2012    491529.0\n",
       "2013    465451.0\n",
       "2014    625001.0\n",
       "2015    713253.0\n",
       "2016    736788.0\n",
       "2017    778002.0\n",
       "2018    732351.0\n",
       "2019    718773.0\n",
       "2020    775309.0\n",
       "Name: average_price, dtype: float32"
      ]
     },
     "execution_count": 42,
     "metadata": {},
     "output_type": "execute_result"
    }
   ],
   "source": [
    "df1.groupby('year').average_price.min()"
   ]
  },
  {
   "cell_type": "markdown",
   "metadata": {
    "pycharm": {
     "name": "#%% md\n"
    }
   },
   "source": [
    "### 3. What is the maximum and minimum number of crimes recorded in each area?"
   ]
  },
  {
   "cell_type": "code",
   "execution_count": 43,
   "metadata": {
    "pycharm": {
     "name": "#%%\n"
    }
   },
   "outputs": [
    {
     "data": {
      "text/plain": [
       "area\n",
       "barking and dagenham      2049.0\n",
       "barnet                    2893.0\n",
       "bexley                    1914.0\n",
       "brent                     2937.0\n",
       "bromley                   2637.0\n",
       "camden                    4558.0\n",
       "city of london              10.0\n",
       "croydon                   3263.0\n",
       "ealing                    3401.0\n",
       "east midlands                0.0\n",
       "east of england              0.0\n",
       "enfield                   2798.0\n",
       "england                      0.0\n",
       "greenwich                 2853.0\n",
       "hackney                   3466.0\n",
       "hammersmith and fulham    2645.0\n",
       "haringey                  3199.0\n",
       "harrow                    1763.0\n",
       "havering                  1956.0\n",
       "hillingdon                2819.0\n",
       "hounslow                  2817.0\n",
       "inner london                 0.0\n",
       "islington                 3384.0\n",
       "kensington and chelsea    2778.0\n",
       "kingston upon thames      1379.0\n",
       "lambeth                   4701.0\n",
       "lewisham                  2813.0\n",
       "london                       0.0\n",
       "merton                    1623.0\n",
       "newham                    3668.0\n",
       "north east                   0.0\n",
       "north west                   0.0\n",
       "outer london                 0.0\n",
       "redbridge                 2560.0\n",
       "richmond upon thames      1551.0\n",
       "south east                   0.0\n",
       "south west                   0.0\n",
       "southwark                 3821.0\n",
       "sutton                    1425.0\n",
       "tower hamlets             3316.0\n",
       "waltham forest            2941.0\n",
       "wandsworth                3051.0\n",
       "west midlands                0.0\n",
       "westminster               7461.0\n",
       "yorks and the humber         0.0\n",
       "Name: no_of_crimes, dtype: float64"
      ]
     },
     "execution_count": 43,
     "metadata": {},
     "output_type": "execute_result"
    }
   ],
   "source": [
    "data.groupby('area').no_of_crimes.max()"
   ]
  },
  {
   "cell_type": "code",
   "execution_count": 44,
   "metadata": {
    "pycharm": {
     "name": "#%%\n"
    }
   },
   "outputs": [
    {
     "data": {
      "text/plain": [
       "area\n",
       "barking and dagenham      0.0\n",
       "barnet                    0.0\n",
       "bexley                    0.0\n",
       "brent                     0.0\n",
       "bromley                   0.0\n",
       "camden                    0.0\n",
       "city of london            0.0\n",
       "croydon                   0.0\n",
       "ealing                    0.0\n",
       "east midlands             0.0\n",
       "east of england           0.0\n",
       "enfield                   0.0\n",
       "england                   0.0\n",
       "greenwich                 0.0\n",
       "hackney                   0.0\n",
       "hammersmith and fulham    0.0\n",
       "haringey                  0.0\n",
       "harrow                    0.0\n",
       "havering                  0.0\n",
       "hillingdon                0.0\n",
       "hounslow                  0.0\n",
       "inner london              0.0\n",
       "islington                 0.0\n",
       "kensington and chelsea    0.0\n",
       "kingston upon thames      0.0\n",
       "lambeth                   0.0\n",
       "lewisham                  0.0\n",
       "london                    0.0\n",
       "merton                    0.0\n",
       "newham                    0.0\n",
       "north east                0.0\n",
       "north west                0.0\n",
       "outer london              0.0\n",
       "redbridge                 0.0\n",
       "richmond upon thames      0.0\n",
       "south east                0.0\n",
       "south west                0.0\n",
       "southwark                 0.0\n",
       "sutton                    0.0\n",
       "tower hamlets             0.0\n",
       "waltham forest            0.0\n",
       "wandsworth                0.0\n",
       "west midlands             0.0\n",
       "westminster               0.0\n",
       "yorks and the humber      0.0\n",
       "Name: no_of_crimes, dtype: float64"
      ]
     },
     "execution_count": 44,
     "metadata": {},
     "output_type": "execute_result"
    }
   ],
   "source": [
    "data.groupby('area').no_of_crimes.min()"
   ]
  },
  {
   "cell_type": "markdown",
   "metadata": {
    "pycharm": {
     "name": "#%% md\n"
    }
   },
   "source": [
    "### 4. Show the total count of records of each area where average price is less than 100000."
   ]
  },
  {
   "cell_type": "code",
   "execution_count": 45,
   "metadata": {},
   "outputs": [],
   "source": [
    "df1 = data[data.area == 'city of london']"
   ]
  },
  {
   "cell_type": "code",
   "execution_count": 46,
   "metadata": {},
   "outputs": [
    {
     "data": {
      "text/html": [
       "<div>\n",
       "<style scoped>\n",
       "    .dataframe tbody tr th:only-of-type {\n",
       "        vertical-align: middle;\n",
       "    }\n",
       "\n",
       "    .dataframe tbody tr th {\n",
       "        vertical-align: top;\n",
       "    }\n",
       "\n",
       "    .dataframe thead th {\n",
       "        text-align: right;\n",
       "    }\n",
       "</style>\n",
       "<table border=\"1\" class=\"dataframe\">\n",
       "  <thead>\n",
       "    <tr style=\"text-align: right;\">\n",
       "      <th></th>\n",
       "      <th>date</th>\n",
       "      <th>year</th>\n",
       "      <th>area</th>\n",
       "      <th>average_price</th>\n",
       "      <th>code</th>\n",
       "      <th>houses_sold</th>\n",
       "      <th>no_of_crimes</th>\n",
       "    </tr>\n",
       "  </thead>\n",
       "  <tbody>\n",
       "    <tr>\n",
       "      <th>0</th>\n",
       "      <td>1995-01-01</td>\n",
       "      <td>1995</td>\n",
       "      <td>city of london</td>\n",
       "      <td>91449.0</td>\n",
       "      <td>E09000001</td>\n",
       "      <td>17.0</td>\n",
       "      <td>0.0</td>\n",
       "    </tr>\n",
       "    <tr>\n",
       "      <th>1</th>\n",
       "      <td>1995-02-01</td>\n",
       "      <td>1995</td>\n",
       "      <td>city of london</td>\n",
       "      <td>82203.0</td>\n",
       "      <td>E09000001</td>\n",
       "      <td>7.0</td>\n",
       "      <td>0.0</td>\n",
       "    </tr>\n",
       "    <tr>\n",
       "      <th>2</th>\n",
       "      <td>1995-03-01</td>\n",
       "      <td>1995</td>\n",
       "      <td>city of london</td>\n",
       "      <td>79121.0</td>\n",
       "      <td>E09000001</td>\n",
       "      <td>14.0</td>\n",
       "      <td>0.0</td>\n",
       "    </tr>\n",
       "    <tr>\n",
       "      <th>3</th>\n",
       "      <td>1995-04-01</td>\n",
       "      <td>1995</td>\n",
       "      <td>city of london</td>\n",
       "      <td>77101.0</td>\n",
       "      <td>E09000001</td>\n",
       "      <td>7.0</td>\n",
       "      <td>0.0</td>\n",
       "    </tr>\n",
       "    <tr>\n",
       "      <th>4</th>\n",
       "      <td>1995-05-01</td>\n",
       "      <td>1995</td>\n",
       "      <td>city of london</td>\n",
       "      <td>84409.0</td>\n",
       "      <td>E09000001</td>\n",
       "      <td>10.0</td>\n",
       "      <td>0.0</td>\n",
       "    </tr>\n",
       "    <tr>\n",
       "      <th>...</th>\n",
       "      <td>...</td>\n",
       "      <td>...</td>\n",
       "      <td>...</td>\n",
       "      <td>...</td>\n",
       "      <td>...</td>\n",
       "      <td>...</td>\n",
       "      <td>...</td>\n",
       "    </tr>\n",
       "    <tr>\n",
       "      <th>296</th>\n",
       "      <td>2019-09-01</td>\n",
       "      <td>2019</td>\n",
       "      <td>city of london</td>\n",
       "      <td>792034.0</td>\n",
       "      <td>E09000001</td>\n",
       "      <td>11.0</td>\n",
       "      <td>0.0</td>\n",
       "    </tr>\n",
       "    <tr>\n",
       "      <th>297</th>\n",
       "      <td>2019-10-01</td>\n",
       "      <td>2019</td>\n",
       "      <td>city of london</td>\n",
       "      <td>827093.0</td>\n",
       "      <td>E09000001</td>\n",
       "      <td>4.0</td>\n",
       "      <td>0.0</td>\n",
       "    </tr>\n",
       "    <tr>\n",
       "      <th>298</th>\n",
       "      <td>2019-11-01</td>\n",
       "      <td>2019</td>\n",
       "      <td>city of london</td>\n",
       "      <td>777610.0</td>\n",
       "      <td>E09000001</td>\n",
       "      <td>5.0</td>\n",
       "      <td>0.0</td>\n",
       "    </tr>\n",
       "    <tr>\n",
       "      <th>299</th>\n",
       "      <td>2019-12-01</td>\n",
       "      <td>2019</td>\n",
       "      <td>city of london</td>\n",
       "      <td>734872.0</td>\n",
       "      <td>E09000001</td>\n",
       "      <td>0.0</td>\n",
       "      <td>0.0</td>\n",
       "    </tr>\n",
       "    <tr>\n",
       "      <th>300</th>\n",
       "      <td>2020-01-01</td>\n",
       "      <td>2020</td>\n",
       "      <td>city of london</td>\n",
       "      <td>775309.0</td>\n",
       "      <td>E09000001</td>\n",
       "      <td>0.0</td>\n",
       "      <td>0.0</td>\n",
       "    </tr>\n",
       "  </tbody>\n",
       "</table>\n",
       "<p>301 rows × 7 columns</p>\n",
       "</div>"
      ],
      "text/plain": [
       "          date  year            area  average_price       code  houses_sold  \\\n",
       "0   1995-01-01  1995  city of london        91449.0  E09000001         17.0   \n",
       "1   1995-02-01  1995  city of london        82203.0  E09000001          7.0   \n",
       "2   1995-03-01  1995  city of london        79121.0  E09000001         14.0   \n",
       "3   1995-04-01  1995  city of london        77101.0  E09000001          7.0   \n",
       "4   1995-05-01  1995  city of london        84409.0  E09000001         10.0   \n",
       "..         ...   ...             ...            ...        ...          ...   \n",
       "296 2019-09-01  2019  city of london       792034.0  E09000001         11.0   \n",
       "297 2019-10-01  2019  city of london       827093.0  E09000001          4.0   \n",
       "298 2019-11-01  2019  city of london       777610.0  E09000001          5.0   \n",
       "299 2019-12-01  2019  city of london       734872.0  E09000001          0.0   \n",
       "300 2020-01-01  2020  city of london       775309.0  E09000001          0.0   \n",
       "\n",
       "     no_of_crimes  \n",
       "0             0.0  \n",
       "1             0.0  \n",
       "2             0.0  \n",
       "3             0.0  \n",
       "4             0.0  \n",
       "..            ...  \n",
       "296           0.0  \n",
       "297           0.0  \n",
       "298           0.0  \n",
       "299           0.0  \n",
       "300           0.0  \n",
       "\n",
       "[301 rows x 7 columns]"
      ]
     },
     "execution_count": 46,
     "metadata": {},
     "output_type": "execute_result"
    }
   ],
   "source": [
    "df1"
   ]
  },
  {
   "cell_type": "code",
   "execution_count": 47,
   "metadata": {},
   "outputs": [
    {
     "data": {
      "text/plain": [
       "year\n",
       "1995    127232.0\n",
       "1996    120543.0\n",
       "1997    131074.0\n",
       "1998    163403.0\n",
       "1999    191157.0\n",
       "2000    321773.0\n",
       "2001    362204.0\n",
       "2002    344239.0\n",
       "2003    305556.0\n",
       "2004    333075.0\n",
       "2005    339626.0\n",
       "2006    377545.0\n",
       "2007    473887.0\n",
       "2008    472397.0\n",
       "2009    411955.0\n",
       "2010    498241.0\n",
       "2011    516319.0\n",
       "2012    573532.0\n",
       "2013    662700.0\n",
       "2014    773768.0\n",
       "2015    783667.0\n",
       "2016    911827.0\n",
       "2017    939912.0\n",
       "2018    811694.0\n",
       "2019    894680.0\n",
       "2020    775309.0\n",
       "Name: average_price, dtype: float32"
      ]
     },
     "execution_count": 47,
     "metadata": {},
     "output_type": "execute_result"
    }
   ],
   "source": [
    "df1.groupby('year').average_price.max()"
   ]
  },
  {
   "cell_type": "code",
   "execution_count": 48,
   "metadata": {},
   "outputs": [
    {
     "data": {
      "text/plain": [
       "year\n",
       "1995     77101.0\n",
       "1996     93357.0\n",
       "1997    107488.0\n",
       "1998    124382.0\n",
       "1999    149143.0\n",
       "2000    173738.0\n",
       "2001    189033.0\n",
       "2002    227281.0\n",
       "2003    243184.0\n",
       "2004    269514.0\n",
       "2005    282866.0\n",
       "2006    304977.0\n",
       "2007    360923.0\n",
       "2008    382571.0\n",
       "2009    345338.0\n",
       "2010    420234.0\n",
       "2011    420435.0\n",
       "2012    491529.0\n",
       "2013    465451.0\n",
       "2014    625001.0\n",
       "2015    713253.0\n",
       "2016    736788.0\n",
       "2017    778002.0\n",
       "2018    732351.0\n",
       "2019    718773.0\n",
       "2020    775309.0\n",
       "Name: average_price, dtype: float32"
      ]
     },
     "execution_count": 48,
     "metadata": {},
     "output_type": "execute_result"
    }
   ],
   "source": [
    "df1.groupby('year').average_price.min()"
   ]
  },
  {
   "cell_type": "markdown",
   "metadata": {},
   "source": [
    "### 3. What is the maximum and minimum number of crimes recorded in each area?"
   ]
  },
  {
   "cell_type": "code",
   "execution_count": 49,
   "metadata": {},
   "outputs": [
    {
     "data": {
      "text/plain": [
       "area\n",
       "barking and dagenham      2049.0\n",
       "barnet                    2893.0\n",
       "bexley                    1914.0\n",
       "brent                     2937.0\n",
       "bromley                   2637.0\n",
       "camden                    4558.0\n",
       "city of london              10.0\n",
       "croydon                   3263.0\n",
       "ealing                    3401.0\n",
       "east midlands                0.0\n",
       "east of england              0.0\n",
       "enfield                   2798.0\n",
       "england                      0.0\n",
       "greenwich                 2853.0\n",
       "hackney                   3466.0\n",
       "hammersmith and fulham    2645.0\n",
       "haringey                  3199.0\n",
       "harrow                    1763.0\n",
       "havering                  1956.0\n",
       "hillingdon                2819.0\n",
       "hounslow                  2817.0\n",
       "inner london                 0.0\n",
       "islington                 3384.0\n",
       "kensington and chelsea    2778.0\n",
       "kingston upon thames      1379.0\n",
       "lambeth                   4701.0\n",
       "lewisham                  2813.0\n",
       "london                       0.0\n",
       "merton                    1623.0\n",
       "newham                    3668.0\n",
       "north east                   0.0\n",
       "north west                   0.0\n",
       "outer london                 0.0\n",
       "redbridge                 2560.0\n",
       "richmond upon thames      1551.0\n",
       "south east                   0.0\n",
       "south west                   0.0\n",
       "southwark                 3821.0\n",
       "sutton                    1425.0\n",
       "tower hamlets             3316.0\n",
       "waltham forest            2941.0\n",
       "wandsworth                3051.0\n",
       "west midlands                0.0\n",
       "westminster               7461.0\n",
       "yorks and the humber         0.0\n",
       "Name: no_of_crimes, dtype: float64"
      ]
     },
     "execution_count": 49,
     "metadata": {},
     "output_type": "execute_result"
    }
   ],
   "source": [
    "data.groupby('area').no_of_crimes.max()"
   ]
  },
  {
   "cell_type": "code",
   "execution_count": 50,
   "metadata": {},
   "outputs": [
    {
     "data": {
      "text/plain": [
       "area\n",
       "barking and dagenham      0.0\n",
       "barnet                    0.0\n",
       "bexley                    0.0\n",
       "brent                     0.0\n",
       "bromley                   0.0\n",
       "camden                    0.0\n",
       "city of london            0.0\n",
       "croydon                   0.0\n",
       "ealing                    0.0\n",
       "east midlands             0.0\n",
       "east of england           0.0\n",
       "enfield                   0.0\n",
       "england                   0.0\n",
       "greenwich                 0.0\n",
       "hackney                   0.0\n",
       "hammersmith and fulham    0.0\n",
       "haringey                  0.0\n",
       "harrow                    0.0\n",
       "havering                  0.0\n",
       "hillingdon                0.0\n",
       "hounslow                  0.0\n",
       "inner london              0.0\n",
       "islington                 0.0\n",
       "kensington and chelsea    0.0\n",
       "kingston upon thames      0.0\n",
       "lambeth                   0.0\n",
       "lewisham                  0.0\n",
       "london                    0.0\n",
       "merton                    0.0\n",
       "newham                    0.0\n",
       "north east                0.0\n",
       "north west                0.0\n",
       "outer london              0.0\n",
       "redbridge                 0.0\n",
       "richmond upon thames      0.0\n",
       "south east                0.0\n",
       "south west                0.0\n",
       "southwark                 0.0\n",
       "sutton                    0.0\n",
       "tower hamlets             0.0\n",
       "waltham forest            0.0\n",
       "wandsworth                0.0\n",
       "west midlands             0.0\n",
       "westminster               0.0\n",
       "yorks and the humber      0.0\n",
       "Name: no_of_crimes, dtype: float64"
      ]
     },
     "execution_count": 50,
     "metadata": {},
     "output_type": "execute_result"
    }
   ],
   "source": [
    "data.groupby('area').no_of_crimes.min()"
   ]
  },
  {
   "cell_type": "markdown",
   "metadata": {},
   "source": [
    "### 4. Show the total count of records of each area where average price is less than 100000."
   ]
  },
  {
   "cell_type": "code",
   "execution_count": 51,
   "metadata": {},
   "outputs": [],
   "source": [
    "df2 = data[data.average_price < 100000]"
   ]
  },
  {
   "cell_type": "code",
   "execution_count": 52,
   "metadata": {},
   "outputs": [
    {
     "data": {
      "text/html": [
       "<div>\n",
       "<style scoped>\n",
       "    .dataframe tbody tr th:only-of-type {\n",
       "        vertical-align: middle;\n",
       "    }\n",
       "\n",
       "    .dataframe tbody tr th {\n",
       "        vertical-align: top;\n",
       "    }\n",
       "\n",
       "    .dataframe thead th {\n",
       "        text-align: right;\n",
       "    }\n",
       "</style>\n",
       "<table border=\"1\" class=\"dataframe\">\n",
       "  <thead>\n",
       "    <tr style=\"text-align: right;\">\n",
       "      <th></th>\n",
       "      <th>date</th>\n",
       "      <th>year</th>\n",
       "      <th>area</th>\n",
       "      <th>average_price</th>\n",
       "      <th>code</th>\n",
       "      <th>houses_sold</th>\n",
       "      <th>no_of_crimes</th>\n",
       "    </tr>\n",
       "  </thead>\n",
       "  <tbody>\n",
       "    <tr>\n",
       "      <th>0</th>\n",
       "      <td>1995-01-01</td>\n",
       "      <td>1995</td>\n",
       "      <td>city of london</td>\n",
       "      <td>91449.0</td>\n",
       "      <td>E09000001</td>\n",
       "      <td>17.0</td>\n",
       "      <td>0.0</td>\n",
       "    </tr>\n",
       "    <tr>\n",
       "      <th>1</th>\n",
       "      <td>1995-02-01</td>\n",
       "      <td>1995</td>\n",
       "      <td>city of london</td>\n",
       "      <td>82203.0</td>\n",
       "      <td>E09000001</td>\n",
       "      <td>7.0</td>\n",
       "      <td>0.0</td>\n",
       "    </tr>\n",
       "    <tr>\n",
       "      <th>2</th>\n",
       "      <td>1995-03-01</td>\n",
       "      <td>1995</td>\n",
       "      <td>city of london</td>\n",
       "      <td>79121.0</td>\n",
       "      <td>E09000001</td>\n",
       "      <td>14.0</td>\n",
       "      <td>0.0</td>\n",
       "    </tr>\n",
       "    <tr>\n",
       "      <th>3</th>\n",
       "      <td>1995-04-01</td>\n",
       "      <td>1995</td>\n",
       "      <td>city of london</td>\n",
       "      <td>77101.0</td>\n",
       "      <td>E09000001</td>\n",
       "      <td>7.0</td>\n",
       "      <td>0.0</td>\n",
       "    </tr>\n",
       "    <tr>\n",
       "      <th>4</th>\n",
       "      <td>1995-05-01</td>\n",
       "      <td>1995</td>\n",
       "      <td>city of london</td>\n",
       "      <td>84409.0</td>\n",
       "      <td>E09000001</td>\n",
       "      <td>10.0</td>\n",
       "      <td>0.0</td>\n",
       "    </tr>\n",
       "    <tr>\n",
       "      <th>...</th>\n",
       "      <td>...</td>\n",
       "      <td>...</td>\n",
       "      <td>...</td>\n",
       "      <td>...</td>\n",
       "      <td>...</td>\n",
       "      <td>...</td>\n",
       "      <td>...</td>\n",
       "    </tr>\n",
       "    <tr>\n",
       "      <th>13330</th>\n",
       "      <td>2001-11-01</td>\n",
       "      <td>2001</td>\n",
       "      <td>england</td>\n",
       "      <td>95083.0</td>\n",
       "      <td>E92000001</td>\n",
       "      <td>109149.0</td>\n",
       "      <td>0.0</td>\n",
       "    </tr>\n",
       "    <tr>\n",
       "      <th>13331</th>\n",
       "      <td>2001-12-01</td>\n",
       "      <td>2001</td>\n",
       "      <td>england</td>\n",
       "      <td>95992.0</td>\n",
       "      <td>E92000001</td>\n",
       "      <td>93329.0</td>\n",
       "      <td>0.0</td>\n",
       "    </tr>\n",
       "    <tr>\n",
       "      <th>13332</th>\n",
       "      <td>2002-01-01</td>\n",
       "      <td>2002</td>\n",
       "      <td>england</td>\n",
       "      <td>96215.0</td>\n",
       "      <td>E92000001</td>\n",
       "      <td>71678.0</td>\n",
       "      <td>0.0</td>\n",
       "    </tr>\n",
       "    <tr>\n",
       "      <th>13333</th>\n",
       "      <td>2002-02-01</td>\n",
       "      <td>2002</td>\n",
       "      <td>england</td>\n",
       "      <td>96676.0</td>\n",
       "      <td>E92000001</td>\n",
       "      <td>77131.0</td>\n",
       "      <td>0.0</td>\n",
       "    </tr>\n",
       "    <tr>\n",
       "      <th>13334</th>\n",
       "      <td>2002-03-01</td>\n",
       "      <td>2002</td>\n",
       "      <td>england</td>\n",
       "      <td>98962.0</td>\n",
       "      <td>E92000001</td>\n",
       "      <td>102828.0</td>\n",
       "      <td>0.0</td>\n",
       "    </tr>\n",
       "  </tbody>\n",
       "</table>\n",
       "<p>2209 rows × 7 columns</p>\n",
       "</div>"
      ],
      "text/plain": [
       "            date  year            area  average_price       code  houses_sold  \\\n",
       "0     1995-01-01  1995  city of london        91449.0  E09000001         17.0   \n",
       "1     1995-02-01  1995  city of london        82203.0  E09000001          7.0   \n",
       "2     1995-03-01  1995  city of london        79121.0  E09000001         14.0   \n",
       "3     1995-04-01  1995  city of london        77101.0  E09000001          7.0   \n",
       "4     1995-05-01  1995  city of london        84409.0  E09000001         10.0   \n",
       "...          ...   ...             ...            ...        ...          ...   \n",
       "13330 2001-11-01  2001         england        95083.0  E92000001     109149.0   \n",
       "13331 2001-12-01  2001         england        95992.0  E92000001      93329.0   \n",
       "13332 2002-01-01  2002         england        96215.0  E92000001      71678.0   \n",
       "13333 2002-02-01  2002         england        96676.0  E92000001      77131.0   \n",
       "13334 2002-03-01  2002         england        98962.0  E92000001     102828.0   \n",
       "\n",
       "       no_of_crimes  \n",
       "0               0.0  \n",
       "1               0.0  \n",
       "2               0.0  \n",
       "3               0.0  \n",
       "4               0.0  \n",
       "...             ...  \n",
       "13330           0.0  \n",
       "13331           0.0  \n",
       "13332           0.0  \n",
       "13333           0.0  \n",
       "13334           0.0  \n",
       "\n",
       "[2209 rows x 7 columns]"
      ]
     },
     "execution_count": 52,
     "metadata": {},
     "output_type": "execute_result"
    }
   ],
   "source": [
    "df2"
   ]
  },
  {
   "cell_type": "code",
   "execution_count": 53,
   "metadata": {},
   "outputs": [
    {
     "data": {
      "text/plain": [
       "north east              112\n",
       "north west              111\n",
       "yorks and the humber    110\n",
       "east midlands            96\n",
       "west midlands            94\n",
       "england                  87\n",
       "barking and dagenham     85\n",
       "south west               78\n",
       "east of england          76\n",
       "newham                   72\n",
       "bexley                   64\n",
       "waltham forest           64\n",
       "lewisham                 62\n",
       "havering                 60\n",
       "south east               59\n",
       "greenwich                59\n",
       "croydon                  57\n",
       "enfield                  54\n",
       "sutton                   54\n",
       "hackney                  53\n",
       "redbridge                52\n",
       "southwark                48\n",
       "tower hamlets            47\n",
       "outer london             46\n",
       "hillingdon               44\n",
       "lambeth                  41\n",
       "hounslow                 41\n",
       "brent                    40\n",
       "london                   39\n",
       "merton                   35\n",
       "haringey                 33\n",
       "bromley                  33\n",
       "inner london             31\n",
       "ealing                   31\n",
       "kingston upon thames     30\n",
       "harrow                   30\n",
       "wandsworth               26\n",
       "barnet                   25\n",
       "islington                19\n",
       "city of london           11\n",
       "Name: area, dtype: int64"
      ]
     },
     "execution_count": 53,
     "metadata": {},
     "output_type": "execute_result"
    }
   ],
   "source": [
    "df2.area.value_counts()"
   ]
  },
  {
   "cell_type": "code",
   "execution_count": null,
   "metadata": {},
   "outputs": [],
   "source": []
  }
 ],
 "metadata": {
  "kernelspec": {
   "display_name": "Python 3 (ipykernel)",
   "language": "python",
   "name": "python3"
  },
  "language_info": {
   "codemirror_mode": {
    "name": "ipython",
    "version": 3
   },
   "file_extension": ".py",
   "mimetype": "text/x-python",
   "name": "python",
   "nbconvert_exporter": "python",
   "pygments_lexer": "ipython3",
   "version": "3.7.1"
  }
 },
 "nbformat": 4,
 "nbformat_minor": 1
}
